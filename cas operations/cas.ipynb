{
 "cells": [
  {
   "cell_type": "code",
   "execution_count": 1,
   "id": "0cee370a",
   "metadata": {},
   "outputs": [],
   "source": [
    "import threading\n",
    "import time"
   ]
  },
  {
   "cell_type": "code",
   "execution_count": 3,
   "id": "f4c1a432",
   "metadata": {},
   "outputs": [],
   "source": [
    "class RawCASCounter:\n",
    "\n",
    "    def __init__(self):\n",
    "        self.value = 0\n",
    "        self._lock = threading.Lock()\n",
    "\n",
    "    def raw_cas(self, address, expected, new_value):\n",
    "        with self._lock:\n",
    "            current = self.value\n",
    "            print(f\"CAS attempt: Expected {expected}, Current {current}\")\n",
    "            if current == expected:\n",
    "                self.value = new_value  # Swap!\n",
    "                print(f\"  -> SWAP SUCCESS! Now {self.value}\")\n",
    "                return True\n",
    "            else:\n",
    "                print(f\"  -> NO SWAP (mismatch). Retry needed.\")\n",
    "                return False\n",
    "\n",
    "    def increment(self):\n",
    "        expected = self.value\n",
    "        print(f\"Thread {threading.current_thread().name} starting increment. ${expected} -> ${expected + 1}\")\n",
    "        while True:\n",
    "            if self.raw_cas(id(self.value), expected, expected + 1):\n",
    "                break\n",
    "            expected = self.value  # Update expected to current value\n",
    "            time.sleep(0.01)  # Sleep briefly to avoid busy-waiting\n",
    "\n",
    "\n",
    "\n"
   ]
  },
  {
   "cell_type": "code",
   "execution_count": 4,
   "id": "0dc6fe51",
   "metadata": {},
   "outputs": [],
   "source": [
    "def thread1(counter):\n",
    "    print(\"Thread 1 starting increment...\")\n",
    "    counter.increment()\n",
    "    print(\"Thread 1 finished.\")\n",
    "\n",
    "def thread2(counter):\n",
    "    time.sleep(0.05)\n",
    "    print(\"Thread 2 starting increment...\")\n",
    "    counter.increment()\n",
    "    print(\"Thread 2 finished.\")"
   ]
  },
  {
   "cell_type": "code",
   "execution_count": 7,
   "id": "57481d84",
   "metadata": {},
   "outputs": [
    {
     "name": "stdout",
     "output_type": "stream",
     "text": [
      "Initial counter value: 0\n",
      "Thread 1 starting increment...\n",
      "Thread T1 starting increment. $0 -> $1\n",
      "CAS attempt: Expected 0, Current 0\n",
      "  -> SWAP SUCCESS! Now 1\n",
      "Thread 1 finished.\n",
      "Thread 2 starting increment...\n",
      "Thread T2 starting increment. $1 -> $2\n",
      "CAS attempt: Expected 1, Current 1\n",
      "  -> SWAP SUCCESS! Now 2\n",
      "Thread 2 finished.\n",
      "Final counter value: 2\n"
     ]
    }
   ],
   "source": [
    "if __name__ == \"__main__\":\n",
    "    counter = RawCASCounter()\n",
    "    print(f\"Initial counter value: {counter.value}\")\n",
    "    t1 = threading.Thread(target=thread1, args=(counter,), name=\"T1\")\n",
    "    t2 = threading.Thread(target=thread2, args=(counter,), name=\"T2\")\n",
    "    t1.start()    \n",
    "    t2.start()\n",
    "    t1.join()    \n",
    "    t2.join()\n",
    "    print(f\"Final counter value: {counter.value}\")\n"
   ]
  },
  {
   "cell_type": "markdown",
   "id": "4817a58b",
   "metadata": {},
   "source": [
    "Without Lock (RACE CHAOS)"
   ]
  },
  {
   "cell_type": "code",
   "execution_count": 15,
   "id": "4a7c7007",
   "metadata": {},
   "outputs": [
    {
     "name": "stdout",
     "output_type": "stream",
     "text": [
      "Without lock: 1001\n"
     ]
    }
   ],
   "source": [
    "import threading\n",
    "import time\n",
    "\n",
    "counter = 0  # Shared, no protection\n",
    "\n",
    "def bad_increment():\n",
    "    global counter\n",
    "    for _ in range(1000):\n",
    "        temp = counter          # Read (GIL holds)\n",
    "        time.sleep(0.000001)    # Sleep: Releases GIL! Another thread can jump in\n",
    "        counter = temp + 1      # Write: Might overwrite another's change\n",
    "\n",
    "threads = [threading.Thread(target=bad_increment) for _ in range(2)]\n",
    "for t in threads: t.start()\n",
    "for t in threads: t.join()\n",
    "print(f\"Without lock: {counter}\")"
   ]
  },
  {
   "cell_type": "code",
   "execution_count": 12,
   "id": "3f547dc9",
   "metadata": {},
   "outputs": [
    {
     "name": "stdout",
     "output_type": "stream",
     "text": [
      "With lock: 2000\n"
     ]
    }
   ],
   "source": [
    "import threading\n",
    "\n",
    "counter = 0\n",
    "lock = threading.Lock()\n",
    "\n",
    "def good_increment():\n",
    "    global counter\n",
    "    for _ in range(1000):\n",
    "        with lock:  # Atomic section\n",
    "            counter += 1\n",
    "\n",
    "threads = [threading.Thread(target=good_increment) for _ in range(2)]\n",
    "for t in threads: t.start()\n",
    "for t in threads: t.join()\n",
    "print(f\"With lock: {counter}\")  # Always 2000"
   ]
  }
 ],
 "metadata": {
  "kernelspec": {
   "display_name": "Python 3",
   "language": "python",
   "name": "python3"
  },
  "language_info": {
   "codemirror_mode": {
    "name": "ipython",
    "version": 3
   },
   "file_extension": ".py",
   "mimetype": "text/x-python",
   "name": "python",
   "nbconvert_exporter": "python",
   "pygments_lexer": "ipython3",
   "version": "3.13.1"
  }
 },
 "nbformat": 4,
 "nbformat_minor": 5
}
