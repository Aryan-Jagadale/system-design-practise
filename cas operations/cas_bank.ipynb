{
 "cells": [
  {
   "cell_type": "markdown",
   "id": "a036879e",
   "metadata": {},
   "source": [
    "A simple bank account starts with $1000. Two \"customers\" (threads) run concurrently:\n",
    "\n",
    "Customer 1: Deposits $10, 50 times (+$500 total).\n",
    "Customer 2: Withdraws $5, 50 times (-$250 total)."
   ]
  },
  {
   "cell_type": "code",
   "execution_count": 1,
   "id": "abf6aa5e",
   "metadata": {},
   "outputs": [],
   "source": [
    "import threading\n",
    "import time"
   ]
  },
  {
   "cell_type": "code",
   "execution_count": 4,
   "id": "e01daa23",
   "metadata": {},
   "outputs": [
    {
     "name": "stdout",
     "output_type": "stream",
     "text": [
      "Customer 1 done\n",
      "Customer 2 done\n",
      "Final balance: 1250 (Expected: 1000 + 500 - 250 = 1250)\n"
     ]
    }
   ],
   "source": [
    "class CASBankAccount:\n",
    "    def __init__(self, initial_balance=1000):\n",
    "        self.balance = initial_balance\n",
    "        self._lock = threading.Lock()  # Simulates atomicity (real CAS: CPU instr)\n",
    "\n",
    "    def cas_deposit(self, expected, amount):\n",
    "        with self._lock:\n",
    "            current = self.balance\n",
    "            if current == expected:\n",
    "                self.balance = current + amount\n",
    "                return True, self.balance\n",
    "            return False, current\n",
    "\n",
    "    def deposit(self, amount):\n",
    "        expected = self.balance\n",
    "        while True:\n",
    "            success, new_bal = self.cas_deposit(expected, amount)\n",
    "            if success:\n",
    "                return new_bal\n",
    "            expected = new_bal\n",
    "            time.sleep(0.000001)  # Tiny delay to force some retries\n",
    "\n",
    "    def cas_withdraw(self, expected, amount):\n",
    "        with self._lock:\n",
    "            current = self.balance\n",
    "            if current == expected and current >= amount:\n",
    "                self.balance = current - amount\n",
    "                return True, self.balance\n",
    "            return False, current\n",
    "\n",
    "    def withdraw(self, amount):\n",
    "        expected = self.balance\n",
    "        while True:\n",
    "            success, new_bal = self.cas_withdraw(expected, amount)\n",
    "            if success:\n",
    "                return new_bal\n",
    "            expected = new_bal\n",
    "            time.sleep(0.000001)\n",
    "\n",
    "def customer1(account):\n",
    "    for _ in range(50):\n",
    "        account.deposit(10)\n",
    "    print(\"Customer 1 done\")\n",
    "\n",
    "def customer2(account):\n",
    "    for _ in range(50):\n",
    "        account.withdraw(5)\n",
    "    print(\"Customer 2 done\")\n",
    "\n",
    "if __name__ == \"__main__\":\n",
    "    account = CASBankAccount(1000)\n",
    "    t1 = threading.Thread(target=customer1, args=(account,))\n",
    "    t2 = threading.Thread(target=customer2, args=(account,))\n",
    "    t1.start()\n",
    "    t2.start()\n",
    "    t1.join()\n",
    "    t2.join()\n",
    "    print(f\"Final balance: {account.balance} (Expected: 1000 + 500 - 250 = 1250)\")"
   ]
  },
  {
   "cell_type": "markdown",
   "id": "1a1c6956",
   "metadata": {},
   "source": [
    "I DIDNT understand ABA..! ;)"
   ]
  },
  {
   "cell_type": "code",
   "execution_count": null,
   "id": "a55eedad",
   "metadata": {},
   "outputs": [],
   "source": []
  },
  {
   "cell_type": "code",
   "execution_count": null,
   "id": "f09b0e98",
   "metadata": {},
   "outputs": [],
   "source": []
  },
  {
   "cell_type": "code",
   "execution_count": null,
   "id": "1093b492",
   "metadata": {},
   "outputs": [],
   "source": []
  },
  {
   "cell_type": "code",
   "execution_count": null,
   "id": "124ec6ad",
   "metadata": {},
   "outputs": [],
   "source": []
  }
 ],
 "metadata": {
  "kernelspec": {
   "display_name": "Python 3",
   "language": "python",
   "name": "python3"
  },
  "language_info": {
   "codemirror_mode": {
    "name": "ipython",
    "version": 3
   },
   "file_extension": ".py",
   "mimetype": "text/x-python",
   "name": "python",
   "nbconvert_exporter": "python",
   "pygments_lexer": "ipython3",
   "version": "3.13.1"
  }
 },
 "nbformat": 4,
 "nbformat_minor": 5
}
